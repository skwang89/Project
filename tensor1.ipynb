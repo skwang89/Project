{
  "nbformat": 4,
  "nbformat_minor": 0,
  "metadata": {
    "colab": {
      "name": "tensor1.ipynb",
      "provenance": [],
      "collapsed_sections": [],
      "mount_file_id": "1cVLd0hDgx1Iz4aaERNQar7qGjFXIxL71",
      "authorship_tag": "ABX9TyPWFagWk+9RpQAz1nglqzwg",
      "include_colab_link": true
    },
    "kernelspec": {
      "name": "python3",
      "display_name": "Python 3"
    }
  },
  "cells": [
    {
      "cell_type": "markdown",
      "metadata": {
        "id": "view-in-github",
        "colab_type": "text"
      },
      "source": [
        "<a href=\"https://colab.research.google.com/github/skwang89/workspace/blob/master/tensor1.ipynb\" target=\"_parent\"><img src=\"https://colab.research.google.com/assets/colab-badge.svg\" alt=\"Open In Colab\"/></a>"
      ]
    },
    {
      "cell_type": "code",
      "metadata": {
        "id": "9W1e47JblNXi",
        "colab_type": "code",
        "colab": {
          "base_uri": "https://localhost:8080/",
          "height": 34
        },
        "outputId": "f143a1a8-0dcc-42b7-bee5-1d09744dc0e4"
      },
      "source": [
        "!git clone https://github.com/skwang89/workspace.git"
      ],
      "execution_count": null,
      "outputs": [
        {
          "output_type": "stream",
          "text": [
            "fatal: destination path 'workspace' already exists and is not an empty directory.\n"
          ],
          "name": "stdout"
        }
      ]
    },
    {
      "cell_type": "code",
      "metadata": {
        "id": "p82Fq4urxn6F",
        "colab_type": "code",
        "colab": {}
      },
      "source": [
        "from google.colab import drive\n",
        "drive.mount('/content/drive')"
      ],
      "execution_count": null,
      "outputs": []
    },
    {
      "cell_type": "code",
      "metadata": {
        "id": "B1Mn1DIypnwA",
        "colab_type": "code",
        "colab": {
          "base_uri": "https://localhost:8080/",
          "height": 34
        },
        "outputId": "9a032293-4e73-4154-ce39-c4e46d07ec06"
      },
      "source": [
        "import tensorflow as tf\n",
        "print(tf.__version__)"
      ],
      "execution_count": null,
      "outputs": [
        {
          "output_type": "stream",
          "text": [
            "2.3.0\n"
          ],
          "name": "stdout"
        }
      ]
    },
    {
      "cell_type": "code",
      "metadata": {
        "id": "KjC0ZdYeqM4w",
        "colab_type": "code",
        "colab": {
          "base_uri": "https://localhost:8080/",
          "height": 70
        },
        "outputId": "9f2794e5-93e8-4f71-f025-2e320752614a"
      },
      "source": [
        "# first.py\n",
        "\n",
        "import tensorflow as tf\n",
        "# 상수 선언\n",
        "hello = tf.constant('Hello, TensorFlow!')\n",
        "\n",
        "print(hello)\n",
        "# tf.Tensor(b'Hello, TensorFlow!', shape=(), dtype=string)\n",
        "\n",
        "# numpy() 메소드를 사용하여 텐서의 값을 numpy데이터 타입으로 변환하여 출력\n",
        "print(hello.numpy())\n",
        "\n",
        "# decode('utf-8')메소드로 bytes 클래스를 str 클래스로 변환\n",
        "# 문자열 앞에 보이던 b가 사라짐\n",
        "print(hello.numpy().decode('utf-8'))\n",
        "# Hello, TensorFlow!"
      ],
      "execution_count": null,
      "outputs": [
        {
          "output_type": "stream",
          "text": [
            "tf.Tensor(b'Hello, TensorFlow!', shape=(), dtype=string)\n",
            "b'Hello, TensorFlow!'\n",
            "Hello, TensorFlow!\n"
          ],
          "name": "stdout"
        }
      ]
    },
    {
      "cell_type": "code",
      "metadata": {
        "id": "oAhRBE5-qwiC",
        "colab_type": "code",
        "colab": {
          "base_uri": "https://localhost:8080/",
          "height": 70
        },
        "outputId": "2d258724-4449-48ee-e376-f925ff5d7c64"
      },
      "source": [
        "# korean.py\n",
        "\n",
        "# 상수 선언: 한글\n",
        "hi = tf.constant('안녕')\n",
        "\n",
        "# 텐서 값으로 한글을 사용한 경우\n",
        "print(hi)\n",
        "# tf.Tensor(b'\\xec\\x95\\x88\\xeb\\x85\\x95', shape=(), dtype=string)\n",
        "\n",
        "print(hi.numpy())\n",
        "# b'\\xec\\x95\\x88\\xeb\\x85\\x95'\n",
        "\n",
        "# decode('utf-8') 메소드로 bytes 클래스를 str 클래스로 변환 *decode('utf8')도 가능\n",
        "print(hi.numpy().decode('utf8'))\n",
        "# 안녕"
      ],
      "execution_count": null,
      "outputs": [
        {
          "output_type": "stream",
          "text": [
            "tf.Tensor(b'\\xec\\x95\\x88\\xeb\\x85\\x95', shape=(), dtype=string)\n",
            "b'\\xec\\x95\\x88\\xeb\\x85\\x95'\n",
            "안녕\n"
          ],
          "name": "stdout"
        }
      ]
    },
    {
      "cell_type": "code",
      "metadata": {
        "id": "k3z7d8fosNJD",
        "colab_type": "code",
        "colab": {
          "base_uri": "https://localhost:8080/",
          "height": 87
        },
        "outputId": "a3f3ca8e-706a-4eda-973b-3a04264aaf2e"
      },
      "source": [
        "# constant_operation01.py\n",
        "\n",
        "import tensorflow as tf\n",
        "\n",
        "# 상수 정의\n",
        "a = tf.constant(2)\n",
        "b = tf.constant(3)\n",
        "\n",
        "c = a+b\n",
        "\n",
        "# 연산 결과 출력\n",
        "print(a.numpy())\n",
        "print(b.numpy())\n",
        "print(c.numpy())\n",
        "print(a.numpy()+b.numpy())\n",
        "# 2\n",
        "# 3\n",
        "# 5\n",
        "# 5"
      ],
      "execution_count": null,
      "outputs": [
        {
          "output_type": "stream",
          "text": [
            "2\n",
            "3\n",
            "5\n",
            "5\n"
          ],
          "name": "stdout"
        }
      ]
    },
    {
      "cell_type": "code",
      "metadata": {
        "id": "O_XjW-Lcs07p",
        "colab_type": "code",
        "colab": {
          "base_uri": "https://localhost:8080/",
          "height": 52
        },
        "outputId": "77eed789-fc4b-4704-b82d-f71c86fc6b9a"
      },
      "source": [
        "# constant_operation02.py\n",
        "\n",
        "import tensorflow as tf\n",
        "\n",
        "# 상수 정의\n",
        "a = tf.constant(2)\n",
        "b = tf.constant(3)\n",
        "c = tf.constant(4)\n",
        "\n",
        "# 연산 정의\n",
        "cal1 = a + b * c\n",
        "cal2 = (a + b) * c\n",
        "\n",
        "# 연산 결과 출력\n",
        "print(cal1.numpy())\n",
        "print(cal2.numpy())\n",
        "# 14\n",
        "# 20"
      ],
      "execution_count": null,
      "outputs": [
        {
          "output_type": "stream",
          "text": [
            "14\n",
            "20\n"
          ],
          "name": "stdout"
        }
      ]
    },
    {
      "cell_type": "code",
      "metadata": {
        "id": "q7s4tKC2wTxZ",
        "colab_type": "code",
        "colab": {
          "base_uri": "https://localhost:8080/",
          "height": 87
        },
        "outputId": "91b19e74-d19a-4aba-d372-52f5745c0e64"
      },
      "source": [
        "# constant_operation03.py\n",
        "import tensorflow as tf\n",
        "node1 = tf.constant(3.0, tf.float32)\n",
        "node2 = tf.constant(4.0)\n",
        "\n",
        "# 연산\n",
        "node3 = tf.add(node1, node2)\n",
        "node4 = tf.multiply(node1, node2)\n",
        "\n",
        "# 연산 결과 출력\n",
        "print(node1.numpy())\n",
        "print(node2.numpy())\n",
        "print(node3.numpy())\n",
        "print(node4.numpy())\n",
        "# 3.0\n",
        "# 4.0\n",
        "# 7.0\n",
        "# 12.0"
      ],
      "execution_count": null,
      "outputs": [
        {
          "output_type": "stream",
          "text": [
            "3.0\n",
            "4.0\n",
            "7.0\n",
            "12.0\n"
          ],
          "name": "stdout"
        }
      ]
    },
    {
      "cell_type": "code",
      "metadata": {
        "id": "-v6ag08cwort",
        "colab_type": "code",
        "colab": {}
      },
      "source": [
        "# constant_operation04.py\n",
        "\n",
        "import tensorflow as tf\n",
        "\n",
        "# 상수 선언\n",
        "x1 = tf.constant([1, 2, 3, 4])\n",
        "x2 = tf.constant([5, 6, 7, 8])\n",
        "\n",
        "# 연산\n",
        "cal1 = tf.add(x1, x2) # 더하기\n",
        "cal2 = tf.subtract(x1, x2) # 빼기\n",
        "cal3 = tf.multiply(x1, x2) # 곱하기\n",
        "cal4 = tf.divide(x1, x2) # 나누기\n",
        "\n",
        "# 연산 결과 출력\n",
        "print(cal1.numpy())\n",
        "print(cal2.numpy())\n",
        "print(cal3.numpy())\n",
        "print(cal4.numpy())"
      ],
      "execution_count": null,
      "outputs": []
    },
    {
      "cell_type": "code",
      "metadata": {
        "id": "hArIx--iwpcH",
        "colab_type": "code",
        "colab": {}
      },
      "source": [
        ""
      ],
      "execution_count": null,
      "outputs": []
    }
  ]
}